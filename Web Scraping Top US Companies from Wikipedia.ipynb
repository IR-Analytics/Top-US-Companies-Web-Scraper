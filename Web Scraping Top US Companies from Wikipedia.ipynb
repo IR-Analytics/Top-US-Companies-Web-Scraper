{
 "cells": [
  {
   "cell_type": "code",
   "execution_count": null,
   "id": "927967d7-f9aa-46eb-a185-0a5007270e9b",
   "metadata": {},
   "outputs": [],
   "source": [
    "from bs4 import BeautifulSoup\n",
    "import requests"
   ]
  },
  {
   "cell_type": "code",
   "execution_count": null,
   "id": "5722f47d-4d4a-47c5-8c21-ae478431d8e8",
   "metadata": {},
   "outputs": [],
   "source": [
    "url = 'https://en.wikipedia.org/wiki/List_of_largest_companies_in_the_United_States_by_revenue'\n",
    "\n",
    "page = requests.get(url)\n",
    "\n",
    "soup = BeautifulSoup(page.text, 'html')"
   ]
  },
  {
   "cell_type": "code",
   "execution_count": null,
   "id": "065d6a65-a497-416c-97e6-4d40e2739234",
   "metadata": {
    "scrolled": true
   },
   "outputs": [],
   "source": [
    "print(soup)"
   ]
  },
  {
   "cell_type": "code",
   "execution_count": null,
   "id": "54910c25-03bf-4f0a-9a71-847b27f79f45",
   "metadata": {},
   "outputs": [],
   "source": [
    "soup.find_all('table')"
   ]
  },
  {
   "cell_type": "code",
   "execution_count": null,
   "id": "8196d51d-9e32-45d4-9c6c-0dc5e1798a6d",
   "metadata": {},
   "outputs": [],
   "source": [
    "soup.find('table')"
   ]
  },
  {
   "cell_type": "code",
   "execution_count": null,
   "id": "8f7ee422-3b40-4abf-835d-a1719314fd8b",
   "metadata": {},
   "outputs": [],
   "source": [
    "soup.find_all('table')[0]"
   ]
  },
  {
   "cell_type": "code",
   "execution_count": null,
   "id": "0bc98ae7-f701-486b-9952-26abcaad6546",
   "metadata": {},
   "outputs": [],
   "source": [
    "table = soup.find_all('table')[0]\n",
    "\n",
    "print(table)"
   ]
  },
  {
   "cell_type": "code",
   "execution_count": null,
   "id": "9338ebd7-c3b7-4579-bf70-98237fe01c18",
   "metadata": {},
   "outputs": [],
   "source": [
    "pull_titles = table.find_all('th')\n",
    "\n",
    "pull_titles"
   ]
  },
  {
   "cell_type": "code",
   "execution_count": null,
   "id": "319d8f89-1dab-44d2-a03d-e1dbe762a5f2",
   "metadata": {},
   "outputs": [],
   "source": [
    "table_titles = [title.text.strip() for title in pull_titles]\n",
    "\n",
    "print(table_titles)"
   ]
  },
  {
   "cell_type": "code",
   "execution_count": null,
   "id": "470ab47f-baec-4900-a6e7-3ed3e0759f8c",
   "metadata": {},
   "outputs": [],
   "source": [
    "import pandas as pd\n",
    "\n",
    "df = pd.DataFrame(columns = table_titles)\n",
    "\n",
    "df"
   ]
  },
  {
   "cell_type": "code",
   "execution_count": null,
   "id": "414ae9c0-5946-42b8-a881-51ef1ebb15c2",
   "metadata": {
    "scrolled": true
   },
   "outputs": [],
   "source": [
    "column_data = table.find_all('tr')[1:]\n",
    "\n",
    "for row in column_data:\n",
    "    row_data = row.find_all('td')\n",
    "    individual_row_data = [data.text.strip() for data in row_data]\n",
    "    #print(individual_row_data)\n",
    "    \n",
    "    length = len(df)\n",
    "    df.loc[length] = individual_row_data\n",
    "\n",
    "df"
   ]
  },
  {
   "cell_type": "code",
   "execution_count": null,
   "id": "e8c7c6b3-8be4-4fb4-b1f3-e544fd90989d",
   "metadata": {},
   "outputs": [],
   "source": [
    "df.to_csv(r'C:\\Users\\HP\\OneDrive\\Documents\\Documents - Copy\\Data Analysis Projects\\Python Training\\Web Scraping Project\\companies.csv', index = False)"
   ]
  },
  {
   "cell_type": "code",
   "execution_count": null,
   "id": "1290d8a4-325b-40f2-bb5f-cd0269c1e063",
   "metadata": {},
   "outputs": [],
   "source": []
  },
  {
   "cell_type": "code",
   "execution_count": null,
   "id": "b696cdad-660f-4194-9082-f4fb387b9199",
   "metadata": {},
   "outputs": [],
   "source": []
  },
  {
   "cell_type": "code",
   "execution_count": null,
   "id": "a78c4e4c-f64a-445d-b3cc-0f6627c130ff",
   "metadata": {},
   "outputs": [],
   "source": []
  }
 ],
 "metadata": {
  "kernelspec": {
   "display_name": "Python [conda env:base] *",
   "language": "python",
   "name": "conda-base-py"
  },
  "language_info": {
   "codemirror_mode": {
    "name": "ipython",
    "version": 3
   },
   "file_extension": ".py",
   "mimetype": "text/x-python",
   "name": "python",
   "nbconvert_exporter": "python",
   "pygments_lexer": "ipython3",
   "version": "3.12.7"
  }
 },
 "nbformat": 4,
 "nbformat_minor": 5
}
